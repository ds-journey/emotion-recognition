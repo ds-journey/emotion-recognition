{
 "cells": [
  {
   "cell_type": "markdown",
   "source": [
    "# Распознавание эмоций\n",
    "\n",
    "Задача проекта - улучшить опыт от посещения музеев, городов или новых мест с помощью информационных технологий.\n",
    "Цель - сделать посещение людьми музеев, городов или новых мест интересным, информативным и комфортным.\n",
    "\n",
    "## Предлагаемое решение\n",
    "\n",
    "Реализуем систему распознавания эмоций, которую можно будет использовать для автоматического определения\n",
    "получаемых людьми эмоций от просмотра, например, музейных экспонатов и т. п. Затем можно будет предлагать\n",
    "людям для посещения на выбор места, вызывающие интересующие их эмоции. Либо подбирать наиболее\n",
    "интересующие людей экспонаты и т. п.\n",
    "\n",
    "[Ссылка на Kaggle](https://www.kaggle.com/datasets/sujaykapadnis/emotion-recognition-dataset/data)"
   ],
   "metadata": {
    "collapsed": false
   },
   "id": "78f63e109fd93a6d"
  },
  {
   "cell_type": "code",
   "execution_count": 273,
   "id": "initial_id",
   "metadata": {
    "collapsed": true,
    "ExecuteTime": {
     "end_time": "2023-12-19T15:27:05.789628821Z",
     "start_time": "2023-12-19T15:27:05.744134868Z"
    }
   },
   "outputs": [],
   "source": [
    "import pandas as pd\n",
    "import torch\n",
    "from torch import nn\n",
    "from torchvision import transforms\n",
    "from torchvision.datasets import ImageFolder\n",
    "from matplotlib import pyplot as plt\n",
    "from torch.utils.data.dataloader import DataLoader\n",
    "from torch.utils.data import random_split\n",
    "import torch.nn.functional as F"
   ]
  },
  {
   "cell_type": "code",
   "execution_count": 274,
   "outputs": [
    {
     "data": {
      "text/plain": "   Unnamed: 0                                               path     label\n0           0  Surprise/1bd930d6a1c717c11be33db74823f661cb53f...  Surprise\n1           1       Surprise/cropped_emotions.100096~12fffff.png  Surprise\n2           2  Surprise/0df0e470e33093f5b72a8197fa209d684032c...  Surprise\n3           3       Surprise/cropped_emotions.260779~12fffff.png  Surprise\n4           4       Surprise/cropped_emotions.263616~12fffff.png  Surprise",
      "text/html": "<div>\n<style scoped>\n    .dataframe tbody tr th:only-of-type {\n        vertical-align: middle;\n    }\n\n    .dataframe tbody tr th {\n        vertical-align: top;\n    }\n\n    .dataframe thead th {\n        text-align: right;\n    }\n</style>\n<table border=\"1\" class=\"dataframe\">\n  <thead>\n    <tr style=\"text-align: right;\">\n      <th></th>\n      <th>Unnamed: 0</th>\n      <th>path</th>\n      <th>label</th>\n    </tr>\n  </thead>\n  <tbody>\n    <tr>\n      <th>0</th>\n      <td>0</td>\n      <td>Surprise/1bd930d6a1c717c11be33db74823f661cb53f...</td>\n      <td>Surprise</td>\n    </tr>\n    <tr>\n      <th>1</th>\n      <td>1</td>\n      <td>Surprise/cropped_emotions.100096~12fffff.png</td>\n      <td>Surprise</td>\n    </tr>\n    <tr>\n      <th>2</th>\n      <td>2</td>\n      <td>Surprise/0df0e470e33093f5b72a8197fa209d684032c...</td>\n      <td>Surprise</td>\n    </tr>\n    <tr>\n      <th>3</th>\n      <td>3</td>\n      <td>Surprise/cropped_emotions.260779~12fffff.png</td>\n      <td>Surprise</td>\n    </tr>\n    <tr>\n      <th>4</th>\n      <td>4</td>\n      <td>Surprise/cropped_emotions.263616~12fffff.png</td>\n      <td>Surprise</td>\n    </tr>\n  </tbody>\n</table>\n</div>"
     },
     "execution_count": 274,
     "metadata": {},
     "output_type": "execute_result"
    }
   ],
   "source": [
    "df = pd.read_csv('data.csv')\n",
    "df.head()"
   ],
   "metadata": {
    "collapsed": false,
    "ExecuteTime": {
     "end_time": "2023-12-19T15:27:05.789958445Z",
     "start_time": "2023-12-19T15:27:05.787296317Z"
    }
   },
   "id": "1f5b749320c24a46"
  },
  {
   "cell_type": "code",
   "execution_count": 275,
   "outputs": [
    {
     "data": {
      "text/plain": "array(['Surprise', 'Sad', 'Ahegao', 'Happy', 'Neutral', 'Angry'],\n      dtype=object)"
     },
     "execution_count": 275,
     "metadata": {},
     "output_type": "execute_result"
    }
   ],
   "source": [
    "df['label'].unique()"
   ],
   "metadata": {
    "collapsed": false,
    "ExecuteTime": {
     "end_time": "2023-12-19T15:27:05.790050503Z",
     "start_time": "2023-12-19T15:27:05.787411846Z"
    }
   },
   "id": "3cd1a77097128b0a"
  },
  {
   "cell_type": "code",
   "execution_count": 276,
   "outputs": [
    {
     "name": "stdout",
     "output_type": "stream",
     "text": [
      "torch.Size([3, 32, 32]) 0\n"
     ]
    }
   ],
   "source": [
    "data_transforms = transforms.Compose([\n",
    "    transforms.Resize((32, 32)),\n",
    "    transforms.ToTensor(),\n",
    "])\n",
    "\n",
    "dataset = ImageFolder('dataset', transform=data_transforms)\n",
    "\n",
    "img, label = dataset[0]\n",
    "\n",
    "print(img.shape, label)"
   ],
   "metadata": {
    "collapsed": false,
    "ExecuteTime": {
     "end_time": "2023-12-19T15:27:05.808881666Z",
     "start_time": "2023-12-19T15:27:05.787461412Z"
    }
   },
   "id": "4403b1be38f833ec"
  },
  {
   "cell_type": "code",
   "execution_count": 277,
   "outputs": [
    {
     "name": "stdout",
     "output_type": "stream",
     "text": [
      "Эмоция: Ahegao\n"
     ]
    },
    {
     "data": {
      "text/plain": "<matplotlib.image.AxesImage at 0x7fe998247220>"
     },
     "execution_count": 277,
     "metadata": {},
     "output_type": "execute_result"
    },
    {
     "data": {
      "text/plain": "<Figure size 640x480 with 1 Axes>",
      "image/png": "[encoded data removed]"
     },
     "metadata": {},
     "output_type": "display_data"
    }
   ],
   "source": [
    "img, label = dataset[0]\n",
    "print(f\"Эмоция: {dataset.classes[label]}\")\n",
    "plt.imshow(img.permute(1,2,0))"
   ],
   "metadata": {
    "collapsed": false,
    "ExecuteTime": {
     "end_time": "2023-12-19T15:27:05.916078599Z",
     "start_time": "2023-12-19T15:27:05.806934982Z"
    }
   },
   "id": "80531dfbb886f1c4"
  },
  {
   "cell_type": "code",
   "execution_count": 278,
   "outputs": [
    {
     "name": "stdout",
     "output_type": "stream",
     "text": [
      "Length of Train Data : 14453\n",
      "Length of Validation Data : 1000\n"
     ]
    }
   ],
   "source": [
    "batch_size = 256\n",
    "val_size = 1000\n",
    "train_size = len(dataset) - val_size\n",
    "train_data, val_data = random_split(dataset, [train_size,val_size])\n",
    "print(f\"Length of Train Data : {len(train_data)}\")\n",
    "print(f\"Length of Validation Data : {len(val_data)}\")"
   ],
   "metadata": {
    "collapsed": false,
    "ExecuteTime": {
     "end_time": "2023-12-19T15:27:05.916390893Z",
     "start_time": "2023-12-19T15:27:05.884259313Z"
    }
   },
   "id": "5096128fcc573841"
  },
  {
   "cell_type": "code",
   "execution_count": 279,
   "outputs": [],
   "source": [
    "train_dl = DataLoader(train_data, batch_size, shuffle=True, num_workers=10, pin_memory=True)\n",
    "val_dl = DataLoader(val_data, batch_size*2, num_workers=10, pin_memory=True)"
   ],
   "metadata": {
    "collapsed": false,
    "ExecuteTime": {
     "end_time": "2023-12-19T15:27:05.918787600Z",
     "start_time": "2023-12-19T15:27:05.893210865Z"
    }
   },
   "id": "316c6be331cda4d0"
  },
  {
   "cell_type": "code",
   "execution_count": 280,
   "outputs": [],
   "source": [
    "class Model(nn.Module):\n",
    "    def __init__(self):\n",
    "        super().__init__()\n",
    "        self.layers = nn.Sequential(\n",
    "            nn.Conv2d(3, 32, kernel_size=3, padding=1),\n",
    "            nn.ReLU(),\n",
    "            nn.Conv2d(32, 64, kernel_size=3, stride=1, padding=1),\n",
    "            nn.ReLU(),\n",
    "            nn.MaxPool2d(2,2),\n",
    "\n",
    "            nn.Conv2d(64, 128, kernel_size=3, stride=1, padding=1),\n",
    "            nn.ReLU(),\n",
    "            nn.Conv2d(128 ,128, kernel_size=3, stride=1, padding=1),\n",
    "            nn.ReLU(),\n",
    "            nn.MaxPool2d(2,2),\n",
    "\n",
    "            nn.Flatten(),\n",
    "            nn.Linear(8192, 256),\n",
    "            nn.ReLU(),\n",
    "            nn.Linear(256,6),\n",
    "        )\n",
    "    \n",
    "    def forward(self, xb):\n",
    "        return self.layers(xb)\n",
    "\n",
    "    def training_step(self, batch):\n",
    "        images, labels = batch\n",
    "        out = self(images)                  # Generate predictions\n",
    "        loss = F.cross_entropy(out, labels) # Calculate loss\n",
    "        return loss\n",
    "\n",
    "    def validation_step(self, batch):\n",
    "        images, labels = batch\n",
    "        out = self(images)                    # Generate predictions\n",
    "        loss = F.cross_entropy(out, labels)   # Calculate loss\n",
    "        acc = accuracy(out, labels)           # Calculate accuracy\n",
    "        return {'val_loss': loss.detach(), 'val_acc': acc}\n",
    "\n",
    "    def validation_epoch_end(self, outputs):\n",
    "        batch_losses = [x['val_loss'] for x in outputs]\n",
    "        epoch_loss = torch.stack(batch_losses).mean()   # Combine losses\n",
    "        batch_accs = [x['val_acc'] for x in outputs]\n",
    "        epoch_acc = torch.stack(batch_accs).mean()      # Combine accuracies\n",
    "        return {'val_loss': epoch_loss.item(), 'val_acc': epoch_acc.item()}\n",
    "\n",
    "    def epoch_end(self, epoch, result):\n",
    "        print(\"Epoch {} train loss: {:.4f}, val loss: {:.4f}, val acc: {:.4f}\".format(\n",
    "            epoch, result['train_loss'], result['val_loss'], result['val_acc']))"
   ],
   "metadata": {
    "collapsed": false,
    "ExecuteTime": {
     "end_time": "2023-12-19T15:27:05.961957135Z",
     "start_time": "2023-12-19T15:27:05.904871373Z"
    }
   },
   "id": "26c1d64e41b72a70"
  },
  {
   "cell_type": "code",
   "execution_count": 281,
   "outputs": [],
   "source": [
    "def accuracy(outputs, labels):\n",
    "    _, preds = torch.max(outputs, dim=1)\n",
    "    return torch.tensor(torch.sum(preds == labels).item() / len(preds))"
   ],
   "metadata": {
    "collapsed": false,
    "ExecuteTime": {
     "end_time": "2023-12-19T15:27:05.966598735Z",
     "start_time": "2023-12-19T15:27:05.947131312Z"
    }
   },
   "id": "2e1e1c5466b1ab7f"
  },
  {
   "cell_type": "code",
   "execution_count": 282,
   "outputs": [],
   "source": [
    "@torch.no_grad()\n",
    "def evaluate(model, val_loader):\n",
    "    model.eval()\n",
    "    outputs = [model.validation_step(batch) for batch in val_loader]\n",
    "    return model.validation_epoch_end(outputs)"
   ],
   "metadata": {
    "collapsed": false,
    "ExecuteTime": {
     "end_time": "2023-12-19T15:27:05.966691447Z",
     "start_time": "2023-12-19T15:27:05.947200866Z"
    }
   },
   "id": "76c528eddcf02579"
  },
  {
   "cell_type": "code",
   "execution_count": 283,
   "outputs": [],
   "source": [
    "def fit(epochs, lr, model, train_loader, val_loader, optimizer_class):\n",
    "    history = []\n",
    "    optimizer = optimizer_class(model.parameters(), lr)\n",
    "    for epoch in range(epochs):\n",
    "\n",
    "        model.train()\n",
    "        train_losses = []\n",
    "        for batch in train_loader:\n",
    "            loss = model.training_step(batch)\n",
    "            train_losses.append(loss)\n",
    "            loss.backward()\n",
    "            optimizer.step()\n",
    "            optimizer.zero_grad()\n",
    "\n",
    "        result = evaluate(model, val_loader)\n",
    "        result['train_loss'] = torch.stack(train_losses).mean().item()\n",
    "        model.epoch_end(epoch, result)\n",
    "        history.append(result)\n",
    "\n",
    "    return history"
   ],
   "metadata": {
    "collapsed": false,
    "ExecuteTime": {
     "end_time": "2023-12-19T15:27:05.996040014Z",
     "start_time": "2023-12-19T15:27:05.947223157Z"
    }
   },
   "id": "a09599ff3c70b6b1"
  },
  {
   "cell_type": "code",
   "execution_count": 284,
   "outputs": [],
   "source": [
    "lr = 0.001\n",
    "optimizer = torch.optim.Adam\n",
    "num_epochs = 5"
   ],
   "metadata": {
    "collapsed": false,
    "ExecuteTime": {
     "end_time": "2023-12-19T15:27:05.996157353Z",
     "start_time": "2023-12-19T15:27:05.995146397Z"
    }
   },
   "id": "706f7b5499a10773"
  },
  {
   "cell_type": "code",
   "execution_count": 285,
   "outputs": [
    {
     "name": "stdout",
     "output_type": "stream",
     "text": [
      "Epoch 0 train loss: 1.5976, val loss: 1.4969, val acc: 0.3181\n",
      "Epoch 1 train loss: 1.3818, val loss: 1.2808, val acc: 0.4834\n",
      "Epoch 2 train loss: 1.1481, val loss: 1.1483, val acc: 0.5280\n",
      "Epoch 3 train loss: 0.9962, val loss: 0.9960, val acc: 0.5988\n",
      "Epoch 4 train loss: 0.9154, val loss: 0.9445, val acc: 0.6307\n"
     ]
    },
    {
     "data": {
      "text/plain": "[{'val_loss': 1.496891975402832,\n  'val_acc': 0.31813526153564453,\n  'train_loss': 1.5976319313049316},\n {'val_loss': 1.2808239459991455,\n  'val_acc': 0.4834144413471222,\n  'train_loss': 1.3817853927612305},\n {'val_loss': 1.1483070850372314,\n  'val_acc': 0.5279681086540222,\n  'train_loss': 1.1480634212493896},\n {'val_loss': 0.9959965944290161,\n  'val_acc': 0.5987929105758667,\n  'train_loss': 0.9961603283882141},\n {'val_loss': 0.9445350170135498,\n  'val_acc': 0.6307152509689331,\n  'train_loss': 0.9154340028762817}]"
     },
     "execution_count": 285,
     "metadata": {},
     "output_type": "execute_result"
    }
   ],
   "source": [
    "history = fit(num_epochs, lr, Model(), train_dl, val_dl, optimizer)\n",
    "history"
   ],
   "metadata": {
    "collapsed": false,
    "ExecuteTime": {
     "end_time": "2023-12-19T15:28:35.965944615Z",
     "start_time": "2023-12-19T15:27:05.995213596Z"
    }
   },
   "id": "bc6cefe54f745c86"
  }
 ],
 "metadata": {
  "kernelspec": {
   "display_name": "Python 3",
   "language": "python",
   "name": "python3"
  },
  "language_info": {
   "codemirror_mode": {
    "name": "ipython",
    "version": 2
   },
   "file_extension": ".py",
   "mimetype": "text/x-python",
   "name": "python",
   "nbconvert_exporter": "python",
   "pygments_lexer": "ipython2",
   "version": "2.7.6"
  }
 },
 "nbformat": 4,
 "nbformat_minor": 5
}
